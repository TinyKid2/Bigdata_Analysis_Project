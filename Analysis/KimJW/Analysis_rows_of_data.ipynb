{
  "nbformat": 4,
  "nbformat_minor": 0,
  "metadata": {
    "colab": {
      "provenance": [],
      "collapsed_sections": [
        "zR7gCc7i3hyR",
        "YL4Ai1Ux4kR_"
      ]
    },
    "kernelspec": {
      "name": "python3",
      "display_name": "Python 3"
    },
    "language_info": {
      "name": "python"
    }
  },
  "cells": [
    {
      "cell_type": "code",
      "execution_count": null,
      "metadata": {
        "id": "3ZDcqGTru2r3"
      },
      "outputs": [],
      "source": [
        "import numpy as np  # Import NumPy for handling numerical operations\n",
        "import pandas as pd  # Import Pandas for data manipulation and analysis\n",
        "import warnings  # Import Warnings to suppress unnecessary warnings\n",
        "\n",
        "# Suppress warning messages\n",
        "warnings.filterwarnings(\"ignore\")\n",
        "import matplotlib.pyplot as plt\n",
        "import seaborn\n",
        "from matplotlib import rc\n",
        "import os\n",
        "import re\n",
        "import chardet"
      ]
    },
    {
      "cell_type": "markdown",
      "source": [
        "# 데이터셋\n",
        "\n",
        "|번호|이름|특징|\n",
        "|---|---|---|\n",
        "|1|응급의료기관+및+응급의료시설+현황+-+시도별,+연도별.csv|...|\n",
        "|2|응급의료기관+병상+현황+-+시도별,+연도별.csv|...|\n",
        "|3|응급의학전문의+및+응급의학전공의+현황+-+시도별,+연도별.csv|...|\n",
        "|4|1급+응급구조사+및+2급+응급구조사+합격자+현황+-+시도별,+연도별.csv|...|\n",
        "|5|응급의료기관+응급실+전담+의료진+현황+-+기관유형별,+시도별,+연도별.csv|...|\n",
        "|6|전체+구급차+및+배치된+의료인력+현황+-+시도별,+연도별.csv|...|\n",
        "|7|인구+백만+명당+응급의료기관+현황+-+시도별,+연도별.csv|...|\n",
        "|8|행정구역_시군구_별__성별_인구수_20231208132957.xlsx|...|"
      ],
      "metadata": {
        "id": "TDk8lwgv2uD6"
      }
    },
    {
      "cell_type": "code",
      "source": [
        "for i in data_set:\n",
        "  print(i)"
      ],
      "metadata": {
        "colab": {
          "base_uri": "https://localhost:8080/"
        },
        "id": "JYKU4oB5vL0s",
        "outputId": "0f15886c-4eb5-4044-d981-f6a03e37bef1"
      },
      "execution_count": null,
      "outputs": [
        {
          "output_type": "stream",
          "name": "stdout",
          "text": [
            "응급의료기관+및+응급의료시설+현황+-+시도별,+연도별.csv\n",
            "응급의료기관+병상+현황+-+시도별,+연도별.csv\n",
            "응급의학전문의+및+응급의학전공의+현황+-+시도별,+연도별.csv\n",
            "1급+응급구조사+및+2급+응급구조사+합격자+현황+-+시도별,+연도별.csv\n",
            "응급의료기관+응급실+전담+의료진+현황+-+기관유형별,+시도별,+연도별.csv\n",
            "전체+구급차+및+배치된+의료인력+현황+-+시도별,+연도별.csv\n",
            "인구+백만+명당+응급의료기관+현황+-+시도별,+연도별.csv\n",
            "행정구역_시군구_별__성별_인구수_20231208132957.xlsx\n"
          ]
        }
      ]
    },
    {
      "cell_type": "code",
      "source": [
        "path_1 = '/content/drive/MyDrive/Bigdata/Data/Data_1'\n",
        "\n",
        "os.chdir(path_1)\n",
        "\n",
        "\n",
        "\n"
      ],
      "metadata": {
        "id": "awVw_80Gu5XX"
      },
      "execution_count": null,
      "outputs": []
    },
    {
      "cell_type": "code",
      "source": [
        "data_set = os.listdir()\n",
        "\n",
        "num = 0\n",
        "for i in data_set:\n",
        "  df = pd.read_excel(i,nrows = 1000)\n",
        "  num = num + len(df)\n",
        "\n",
        "\n",
        "print(num)"
      ],
      "metadata": {
        "colab": {
          "base_uri": "https://localhost:8080/"
        },
        "id": "6LZ9sEYcy3PX",
        "outputId": "e7d77310-0e77-4033-eff6-741415942c6d"
      },
      "execution_count": null,
      "outputs": [
        {
          "output_type": "stream",
          "name": "stdout",
          "text": [
            "183\n"
          ]
        }
      ]
    },
    {
      "cell_type": "code",
      "source": [
        "def count_num_rows(number):\n",
        "\n",
        "  num = 0\n",
        "  for i in range(2018,2023):\n",
        "    df = pd.read_excel(data_set[number-1])\n",
        "    # print(i)\n",
        "    print(df.columns)\n",
        "    column_num = int(input())\n",
        "    text = f\"{i}년\"\n",
        "    # print(text)\n",
        "    df_1 = df.loc[:,text:text+f\".{column_num}\"]\n",
        "    print(len(df_1))\n",
        "    num = num + len(df_1)\n",
        "    return(f\"총 갯수 :{num} \", number)\n"
      ],
      "metadata": {
        "id": "W7QLz_1T5Pfk"
      },
      "execution_count": null,
      "outputs": []
    },
    {
      "cell_type": "markdown",
      "source": [
        "# 2번 데이터 셋\n",
        "\n",
        "응급의료기관+병상+현황+-+시도별,+연도별.csv"
      ],
      "metadata": {
        "id": "89RBBM4a2l6x"
      }
    },
    {
      "cell_type": "markdown",
      "source": [
        "## 총갯수 : 115"
      ],
      "metadata": {
        "id": "zR7gCc7i3hyR"
      }
    },
    {
      "cell_type": "code",
      "source": [
        "df = pd.read_excel(data_set[1])\n",
        "df"
      ],
      "metadata": {
        "colab": {
          "base_uri": "https://localhost:8080/",
          "height": 973
        },
        "id": "aqgE8ymW0RuU",
        "outputId": "6bfff5ff-138d-4812-d0f3-e5b4debeaf19"
      },
      "execution_count": null,
      "outputs": [
        {
          "output_type": "execute_result",
          "data": {
            "text/plain": [
              "                                                   No   분류     2022년 2022년.1  \\\n",
              "0                                                  No   분류  응급의료기관 수     병상수   \n",
              "1                                                  No   분류  응급의료기관 수       계   \n",
              "2                                                  No   분류         개       개   \n",
              "3                                                  No   분류       원자료     원자료   \n",
              "4                                                   1   전체       410   7,176   \n",
              "5                                                   2   서울        50   1,164   \n",
              "6                                                   3   부산        28     457   \n",
              "7                                                   4   대구        18     351   \n",
              "8                                                   5   인천        20     350   \n",
              "9                                                   6   광주        20     327   \n",
              "10                                                  7   대전         9     172   \n",
              "11                                                  8   울산         7     121   \n",
              "12                                                  9   세종         2      37   \n",
              "13                                                 10   경기        73   1,486   \n",
              "14                                                 11   강원        22     326   \n",
              "15                                                 12   충북        15     247   \n",
              "16                                                 13   충남        17     284   \n",
              "17                                                 14   전북        20     370   \n",
              "18                                                 15   전남        36     426   \n",
              "19                                                 16   경북        31     411   \n",
              "20                                                 17   경남        36     519   \n",
              "21                                                 18   제주         6     128   \n",
              "22      [출처] 응급의료 통계연보\\n[정의] \\n- 2016년 -2019년 응급의료...  NaN       NaN     NaN   \n",
              "\n",
              "     2022년.2   2022년.3   2022년.4     2021년 2021년.1   2021년.2  ...     2019년  \\\n",
              "0        병상수       병상수       병상수  응급의료기관 수     병상수       병상수  ...  응급의료기관 수   \n",
              "1   권역응급의료센터  지역응급의료센터  지역응급의료기관  응급의료기관 수       계  권역응급의료센터  ...  응급의료기관 수   \n",
              "2          개         개         개         개       개         개  ...         개   \n",
              "3        원자료       원자료       원자료       원자료     원자료       원자료  ...       원자료   \n",
              "4      1,429     3,078     2,689       405   7,359     1,429  ...       399   \n",
              "5        238       735       191        50   1,195       193  ...        50   \n",
              "6         40       202       215        28     473        40  ...        28   \n",
              "7         70       138       143        16     352        69  ...        15   \n",
              "8         74       151       125        19     389        73  ...        20   \n",
              "9         69        94       164        20     331        69  ...        20   \n",
              "10        71        56        45        10     189        70  ...        10   \n",
              "11        37        19        65         7     123        37  ...         8   \n",
              "12       NaN        26        11         2      36       NaN  ...       NaN   \n",
              "13       271       710       505        67   1,438       287  ...        63   \n",
              "14       110        86       130        22     341       118  ...        22   \n",
              "15        35       104       108        15     274        43  ...        16   \n",
              "16        34       158        92        17     288        34  ...        16   \n",
              "17        87       193        90        20     386        88  ...        20   \n",
              "18        59        64       303        38     440        59  ...        38   \n",
              "19        87       120       204        31     435        96  ...        31   \n",
              "20       121       130       268        37     540       127  ...        36   \n",
              "21        26        92        10         6     129        26  ...         6   \n",
              "22       NaN       NaN       NaN       NaN     NaN       NaN  ...       NaN   \n",
              "\n",
              "   2019년.1   2019년.2   2019년.3   2019년.4     2018년 2018년.1   2018년.2  \\\n",
              "0      병상수       병상수       병상수       병상수  응급의료기관 수     병상수       병상수   \n",
              "1        계  권역응급의료센터  지역응급의료센터  지역응급의료기관  응급의료기관 수       계  권역응급의료센터   \n",
              "2        개         개         개         개         개       개         개   \n",
              "3      원자료       원자료       원자료       원자료       원자료     원자료       원자료   \n",
              "4    7,105     1,268     3,297     2,540       401   6,945     1,278   \n",
              "5    1,252       190       823       239        48   1,171       190   \n",
              "6      479        39       183       257        28     493        66   \n",
              "7      294        32       165        97        12     249        32   \n",
              "8      378        72       189       117        21     369        72   \n",
              "9      324        69        74       181        20     314        69   \n",
              "10     208        76        73        59        10     199        76   \n",
              "11     128        37        28        63        10     148        37   \n",
              "12     NaN       NaN       NaN       NaN       NaN     NaN       NaN   \n",
              "13   1,349       289       732       328        64   1,322       277   \n",
              "14     326        98        94       134        22     324        98   \n",
              "15     263        43       105       115        15     248        43   \n",
              "16     273        34       160        79        16     254        34   \n",
              "17     332       NaN       243        89        22     357        45   \n",
              "18     416        50        66       300        38     414        50   \n",
              "19     425        89       123       213        32     420        81   \n",
              "20     532       127       146       259        37     540        85   \n",
              "21     126        23        93        10         6     123        23   \n",
              "22     NaN       NaN       NaN       NaN       NaN     NaN       NaN   \n",
              "\n",
              "     2018년.3   2018년.4  \n",
              "0        병상수       병상수  \n",
              "1   지역응급의료센터  지역응급의료기관  \n",
              "2          개         개  \n",
              "3        원자료       원자료  \n",
              "4      3,026     2,641  \n",
              "5        814       167  \n",
              "6        145       282  \n",
              "7        155        62  \n",
              "8        164       133  \n",
              "9         88       157  \n",
              "10        79        44  \n",
              "11        28        83  \n",
              "12       NaN       NaN  \n",
              "13       626       419  \n",
              "14        92       134  \n",
              "15        60       145  \n",
              "16       145        75  \n",
              "17       173       139  \n",
              "18        63       301  \n",
              "19       123       216  \n",
              "20       181       274  \n",
              "21        90        10  \n",
              "22       NaN       NaN  \n",
              "\n",
              "[23 rows x 27 columns]"
            ],
            "text/html": [
              "\n",
              "  <div id=\"df-c13bb1db-55f7-4e78-b65b-c57f0f60d87c\" class=\"colab-df-container\">\n",
              "    <div>\n",
              "<style scoped>\n",
              "    .dataframe tbody tr th:only-of-type {\n",
              "        vertical-align: middle;\n",
              "    }\n",
              "\n",
              "    .dataframe tbody tr th {\n",
              "        vertical-align: top;\n",
              "    }\n",
              "\n",
              "    .dataframe thead th {\n",
              "        text-align: right;\n",
              "    }\n",
              "</style>\n",
              "<table border=\"1\" class=\"dataframe\">\n",
              "  <thead>\n",
              "    <tr style=\"text-align: right;\">\n",
              "      <th></th>\n",
              "      <th>No</th>\n",
              "      <th>분류</th>\n",
              "      <th>2022년</th>\n",
              "      <th>2022년.1</th>\n",
              "      <th>2022년.2</th>\n",
              "      <th>2022년.3</th>\n",
              "      <th>2022년.4</th>\n",
              "      <th>2021년</th>\n",
              "      <th>2021년.1</th>\n",
              "      <th>2021년.2</th>\n",
              "      <th>...</th>\n",
              "      <th>2019년</th>\n",
              "      <th>2019년.1</th>\n",
              "      <th>2019년.2</th>\n",
              "      <th>2019년.3</th>\n",
              "      <th>2019년.4</th>\n",
              "      <th>2018년</th>\n",
              "      <th>2018년.1</th>\n",
              "      <th>2018년.2</th>\n",
              "      <th>2018년.3</th>\n",
              "      <th>2018년.4</th>\n",
              "    </tr>\n",
              "  </thead>\n",
              "  <tbody>\n",
              "    <tr>\n",
              "      <th>0</th>\n",
              "      <td>No</td>\n",
              "      <td>분류</td>\n",
              "      <td>응급의료기관 수</td>\n",
              "      <td>병상수</td>\n",
              "      <td>병상수</td>\n",
              "      <td>병상수</td>\n",
              "      <td>병상수</td>\n",
              "      <td>응급의료기관 수</td>\n",
              "      <td>병상수</td>\n",
              "      <td>병상수</td>\n",
              "      <td>...</td>\n",
              "      <td>응급의료기관 수</td>\n",
              "      <td>병상수</td>\n",
              "      <td>병상수</td>\n",
              "      <td>병상수</td>\n",
              "      <td>병상수</td>\n",
              "      <td>응급의료기관 수</td>\n",
              "      <td>병상수</td>\n",
              "      <td>병상수</td>\n",
              "      <td>병상수</td>\n",
              "      <td>병상수</td>\n",
              "    </tr>\n",
              "    <tr>\n",
              "      <th>1</th>\n",
              "      <td>No</td>\n",
              "      <td>분류</td>\n",
              "      <td>응급의료기관 수</td>\n",
              "      <td>계</td>\n",
              "      <td>권역응급의료센터</td>\n",
              "      <td>지역응급의료센터</td>\n",
              "      <td>지역응급의료기관</td>\n",
              "      <td>응급의료기관 수</td>\n",
              "      <td>계</td>\n",
              "      <td>권역응급의료센터</td>\n",
              "      <td>...</td>\n",
              "      <td>응급의료기관 수</td>\n",
              "      <td>계</td>\n",
              "      <td>권역응급의료센터</td>\n",
              "      <td>지역응급의료센터</td>\n",
              "      <td>지역응급의료기관</td>\n",
              "      <td>응급의료기관 수</td>\n",
              "      <td>계</td>\n",
              "      <td>권역응급의료센터</td>\n",
              "      <td>지역응급의료센터</td>\n",
              "      <td>지역응급의료기관</td>\n",
              "    </tr>\n",
              "    <tr>\n",
              "      <th>2</th>\n",
              "      <td>No</td>\n",
              "      <td>분류</td>\n",
              "      <td>개</td>\n",
              "      <td>개</td>\n",
              "      <td>개</td>\n",
              "      <td>개</td>\n",
              "      <td>개</td>\n",
              "      <td>개</td>\n",
              "      <td>개</td>\n",
              "      <td>개</td>\n",
              "      <td>...</td>\n",
              "      <td>개</td>\n",
              "      <td>개</td>\n",
              "      <td>개</td>\n",
              "      <td>개</td>\n",
              "      <td>개</td>\n",
              "      <td>개</td>\n",
              "      <td>개</td>\n",
              "      <td>개</td>\n",
              "      <td>개</td>\n",
              "      <td>개</td>\n",
              "    </tr>\n",
              "    <tr>\n",
              "      <th>3</th>\n",
              "      <td>No</td>\n",
              "      <td>분류</td>\n",
              "      <td>원자료</td>\n",
              "      <td>원자료</td>\n",
              "      <td>원자료</td>\n",
              "      <td>원자료</td>\n",
              "      <td>원자료</td>\n",
              "      <td>원자료</td>\n",
              "      <td>원자료</td>\n",
              "      <td>원자료</td>\n",
              "      <td>...</td>\n",
              "      <td>원자료</td>\n",
              "      <td>원자료</td>\n",
              "      <td>원자료</td>\n",
              "      <td>원자료</td>\n",
              "      <td>원자료</td>\n",
              "      <td>원자료</td>\n",
              "      <td>원자료</td>\n",
              "      <td>원자료</td>\n",
              "      <td>원자료</td>\n",
              "      <td>원자료</td>\n",
              "    </tr>\n",
              "    <tr>\n",
              "      <th>4</th>\n",
              "      <td>1</td>\n",
              "      <td>전체</td>\n",
              "      <td>410</td>\n",
              "      <td>7,176</td>\n",
              "      <td>1,429</td>\n",
              "      <td>3,078</td>\n",
              "      <td>2,689</td>\n",
              "      <td>405</td>\n",
              "      <td>7,359</td>\n",
              "      <td>1,429</td>\n",
              "      <td>...</td>\n",
              "      <td>399</td>\n",
              "      <td>7,105</td>\n",
              "      <td>1,268</td>\n",
              "      <td>3,297</td>\n",
              "      <td>2,540</td>\n",
              "      <td>401</td>\n",
              "      <td>6,945</td>\n",
              "      <td>1,278</td>\n",
              "      <td>3,026</td>\n",
              "      <td>2,641</td>\n",
              "    </tr>\n",
              "    <tr>\n",
              "      <th>5</th>\n",
              "      <td>2</td>\n",
              "      <td>서울</td>\n",
              "      <td>50</td>\n",
              "      <td>1,164</td>\n",
              "      <td>238</td>\n",
              "      <td>735</td>\n",
              "      <td>191</td>\n",
              "      <td>50</td>\n",
              "      <td>1,195</td>\n",
              "      <td>193</td>\n",
              "      <td>...</td>\n",
              "      <td>50</td>\n",
              "      <td>1,252</td>\n",
              "      <td>190</td>\n",
              "      <td>823</td>\n",
              "      <td>239</td>\n",
              "      <td>48</td>\n",
              "      <td>1,171</td>\n",
              "      <td>190</td>\n",
              "      <td>814</td>\n",
              "      <td>167</td>\n",
              "    </tr>\n",
              "    <tr>\n",
              "      <th>6</th>\n",
              "      <td>3</td>\n",
              "      <td>부산</td>\n",
              "      <td>28</td>\n",
              "      <td>457</td>\n",
              "      <td>40</td>\n",
              "      <td>202</td>\n",
              "      <td>215</td>\n",
              "      <td>28</td>\n",
              "      <td>473</td>\n",
              "      <td>40</td>\n",
              "      <td>...</td>\n",
              "      <td>28</td>\n",
              "      <td>479</td>\n",
              "      <td>39</td>\n",
              "      <td>183</td>\n",
              "      <td>257</td>\n",
              "      <td>28</td>\n",
              "      <td>493</td>\n",
              "      <td>66</td>\n",
              "      <td>145</td>\n",
              "      <td>282</td>\n",
              "    </tr>\n",
              "    <tr>\n",
              "      <th>7</th>\n",
              "      <td>4</td>\n",
              "      <td>대구</td>\n",
              "      <td>18</td>\n",
              "      <td>351</td>\n",
              "      <td>70</td>\n",
              "      <td>138</td>\n",
              "      <td>143</td>\n",
              "      <td>16</td>\n",
              "      <td>352</td>\n",
              "      <td>69</td>\n",
              "      <td>...</td>\n",
              "      <td>15</td>\n",
              "      <td>294</td>\n",
              "      <td>32</td>\n",
              "      <td>165</td>\n",
              "      <td>97</td>\n",
              "      <td>12</td>\n",
              "      <td>249</td>\n",
              "      <td>32</td>\n",
              "      <td>155</td>\n",
              "      <td>62</td>\n",
              "    </tr>\n",
              "    <tr>\n",
              "      <th>8</th>\n",
              "      <td>5</td>\n",
              "      <td>인천</td>\n",
              "      <td>20</td>\n",
              "      <td>350</td>\n",
              "      <td>74</td>\n",
              "      <td>151</td>\n",
              "      <td>125</td>\n",
              "      <td>19</td>\n",
              "      <td>389</td>\n",
              "      <td>73</td>\n",
              "      <td>...</td>\n",
              "      <td>20</td>\n",
              "      <td>378</td>\n",
              "      <td>72</td>\n",
              "      <td>189</td>\n",
              "      <td>117</td>\n",
              "      <td>21</td>\n",
              "      <td>369</td>\n",
              "      <td>72</td>\n",
              "      <td>164</td>\n",
              "      <td>133</td>\n",
              "    </tr>\n",
              "    <tr>\n",
              "      <th>9</th>\n",
              "      <td>6</td>\n",
              "      <td>광주</td>\n",
              "      <td>20</td>\n",
              "      <td>327</td>\n",
              "      <td>69</td>\n",
              "      <td>94</td>\n",
              "      <td>164</td>\n",
              "      <td>20</td>\n",
              "      <td>331</td>\n",
              "      <td>69</td>\n",
              "      <td>...</td>\n",
              "      <td>20</td>\n",
              "      <td>324</td>\n",
              "      <td>69</td>\n",
              "      <td>74</td>\n",
              "      <td>181</td>\n",
              "      <td>20</td>\n",
              "      <td>314</td>\n",
              "      <td>69</td>\n",
              "      <td>88</td>\n",
              "      <td>157</td>\n",
              "    </tr>\n",
              "    <tr>\n",
              "      <th>10</th>\n",
              "      <td>7</td>\n",
              "      <td>대전</td>\n",
              "      <td>9</td>\n",
              "      <td>172</td>\n",
              "      <td>71</td>\n",
              "      <td>56</td>\n",
              "      <td>45</td>\n",
              "      <td>10</td>\n",
              "      <td>189</td>\n",
              "      <td>70</td>\n",
              "      <td>...</td>\n",
              "      <td>10</td>\n",
              "      <td>208</td>\n",
              "      <td>76</td>\n",
              "      <td>73</td>\n",
              "      <td>59</td>\n",
              "      <td>10</td>\n",
              "      <td>199</td>\n",
              "      <td>76</td>\n",
              "      <td>79</td>\n",
              "      <td>44</td>\n",
              "    </tr>\n",
              "    <tr>\n",
              "      <th>11</th>\n",
              "      <td>8</td>\n",
              "      <td>울산</td>\n",
              "      <td>7</td>\n",
              "      <td>121</td>\n",
              "      <td>37</td>\n",
              "      <td>19</td>\n",
              "      <td>65</td>\n",
              "      <td>7</td>\n",
              "      <td>123</td>\n",
              "      <td>37</td>\n",
              "      <td>...</td>\n",
              "      <td>8</td>\n",
              "      <td>128</td>\n",
              "      <td>37</td>\n",
              "      <td>28</td>\n",
              "      <td>63</td>\n",
              "      <td>10</td>\n",
              "      <td>148</td>\n",
              "      <td>37</td>\n",
              "      <td>28</td>\n",
              "      <td>83</td>\n",
              "    </tr>\n",
              "    <tr>\n",
              "      <th>12</th>\n",
              "      <td>9</td>\n",
              "      <td>세종</td>\n",
              "      <td>2</td>\n",
              "      <td>37</td>\n",
              "      <td>NaN</td>\n",
              "      <td>26</td>\n",
              "      <td>11</td>\n",
              "      <td>2</td>\n",
              "      <td>36</td>\n",
              "      <td>NaN</td>\n",
              "      <td>...</td>\n",
              "      <td>NaN</td>\n",
              "      <td>NaN</td>\n",
              "      <td>NaN</td>\n",
              "      <td>NaN</td>\n",
              "      <td>NaN</td>\n",
              "      <td>NaN</td>\n",
              "      <td>NaN</td>\n",
              "      <td>NaN</td>\n",
              "      <td>NaN</td>\n",
              "      <td>NaN</td>\n",
              "    </tr>\n",
              "    <tr>\n",
              "      <th>13</th>\n",
              "      <td>10</td>\n",
              "      <td>경기</td>\n",
              "      <td>73</td>\n",
              "      <td>1,486</td>\n",
              "      <td>271</td>\n",
              "      <td>710</td>\n",
              "      <td>505</td>\n",
              "      <td>67</td>\n",
              "      <td>1,438</td>\n",
              "      <td>287</td>\n",
              "      <td>...</td>\n",
              "      <td>63</td>\n",
              "      <td>1,349</td>\n",
              "      <td>289</td>\n",
              "      <td>732</td>\n",
              "      <td>328</td>\n",
              "      <td>64</td>\n",
              "      <td>1,322</td>\n",
              "      <td>277</td>\n",
              "      <td>626</td>\n",
              "      <td>419</td>\n",
              "    </tr>\n",
              "    <tr>\n",
              "      <th>14</th>\n",
              "      <td>11</td>\n",
              "      <td>강원</td>\n",
              "      <td>22</td>\n",
              "      <td>326</td>\n",
              "      <td>110</td>\n",
              "      <td>86</td>\n",
              "      <td>130</td>\n",
              "      <td>22</td>\n",
              "      <td>341</td>\n",
              "      <td>118</td>\n",
              "      <td>...</td>\n",
              "      <td>22</td>\n",
              "      <td>326</td>\n",
              "      <td>98</td>\n",
              "      <td>94</td>\n",
              "      <td>134</td>\n",
              "      <td>22</td>\n",
              "      <td>324</td>\n",
              "      <td>98</td>\n",
              "      <td>92</td>\n",
              "      <td>134</td>\n",
              "    </tr>\n",
              "    <tr>\n",
              "      <th>15</th>\n",
              "      <td>12</td>\n",
              "      <td>충북</td>\n",
              "      <td>15</td>\n",
              "      <td>247</td>\n",
              "      <td>35</td>\n",
              "      <td>104</td>\n",
              "      <td>108</td>\n",
              "      <td>15</td>\n",
              "      <td>274</td>\n",
              "      <td>43</td>\n",
              "      <td>...</td>\n",
              "      <td>16</td>\n",
              "      <td>263</td>\n",
              "      <td>43</td>\n",
              "      <td>105</td>\n",
              "      <td>115</td>\n",
              "      <td>15</td>\n",
              "      <td>248</td>\n",
              "      <td>43</td>\n",
              "      <td>60</td>\n",
              "      <td>145</td>\n",
              "    </tr>\n",
              "    <tr>\n",
              "      <th>16</th>\n",
              "      <td>13</td>\n",
              "      <td>충남</td>\n",
              "      <td>17</td>\n",
              "      <td>284</td>\n",
              "      <td>34</td>\n",
              "      <td>158</td>\n",
              "      <td>92</td>\n",
              "      <td>17</td>\n",
              "      <td>288</td>\n",
              "      <td>34</td>\n",
              "      <td>...</td>\n",
              "      <td>16</td>\n",
              "      <td>273</td>\n",
              "      <td>34</td>\n",
              "      <td>160</td>\n",
              "      <td>79</td>\n",
              "      <td>16</td>\n",
              "      <td>254</td>\n",
              "      <td>34</td>\n",
              "      <td>145</td>\n",
              "      <td>75</td>\n",
              "    </tr>\n",
              "    <tr>\n",
              "      <th>17</th>\n",
              "      <td>14</td>\n",
              "      <td>전북</td>\n",
              "      <td>20</td>\n",
              "      <td>370</td>\n",
              "      <td>87</td>\n",
              "      <td>193</td>\n",
              "      <td>90</td>\n",
              "      <td>20</td>\n",
              "      <td>386</td>\n",
              "      <td>88</td>\n",
              "      <td>...</td>\n",
              "      <td>20</td>\n",
              "      <td>332</td>\n",
              "      <td>NaN</td>\n",
              "      <td>243</td>\n",
              "      <td>89</td>\n",
              "      <td>22</td>\n",
              "      <td>357</td>\n",
              "      <td>45</td>\n",
              "      <td>173</td>\n",
              "      <td>139</td>\n",
              "    </tr>\n",
              "    <tr>\n",
              "      <th>18</th>\n",
              "      <td>15</td>\n",
              "      <td>전남</td>\n",
              "      <td>36</td>\n",
              "      <td>426</td>\n",
              "      <td>59</td>\n",
              "      <td>64</td>\n",
              "      <td>303</td>\n",
              "      <td>38</td>\n",
              "      <td>440</td>\n",
              "      <td>59</td>\n",
              "      <td>...</td>\n",
              "      <td>38</td>\n",
              "      <td>416</td>\n",
              "      <td>50</td>\n",
              "      <td>66</td>\n",
              "      <td>300</td>\n",
              "      <td>38</td>\n",
              "      <td>414</td>\n",
              "      <td>50</td>\n",
              "      <td>63</td>\n",
              "      <td>301</td>\n",
              "    </tr>\n",
              "    <tr>\n",
              "      <th>19</th>\n",
              "      <td>16</td>\n",
              "      <td>경북</td>\n",
              "      <td>31</td>\n",
              "      <td>411</td>\n",
              "      <td>87</td>\n",
              "      <td>120</td>\n",
              "      <td>204</td>\n",
              "      <td>31</td>\n",
              "      <td>435</td>\n",
              "      <td>96</td>\n",
              "      <td>...</td>\n",
              "      <td>31</td>\n",
              "      <td>425</td>\n",
              "      <td>89</td>\n",
              "      <td>123</td>\n",
              "      <td>213</td>\n",
              "      <td>32</td>\n",
              "      <td>420</td>\n",
              "      <td>81</td>\n",
              "      <td>123</td>\n",
              "      <td>216</td>\n",
              "    </tr>\n",
              "    <tr>\n",
              "      <th>20</th>\n",
              "      <td>17</td>\n",
              "      <td>경남</td>\n",
              "      <td>36</td>\n",
              "      <td>519</td>\n",
              "      <td>121</td>\n",
              "      <td>130</td>\n",
              "      <td>268</td>\n",
              "      <td>37</td>\n",
              "      <td>540</td>\n",
              "      <td>127</td>\n",
              "      <td>...</td>\n",
              "      <td>36</td>\n",
              "      <td>532</td>\n",
              "      <td>127</td>\n",
              "      <td>146</td>\n",
              "      <td>259</td>\n",
              "      <td>37</td>\n",
              "      <td>540</td>\n",
              "      <td>85</td>\n",
              "      <td>181</td>\n",
              "      <td>274</td>\n",
              "    </tr>\n",
              "    <tr>\n",
              "      <th>21</th>\n",
              "      <td>18</td>\n",
              "      <td>제주</td>\n",
              "      <td>6</td>\n",
              "      <td>128</td>\n",
              "      <td>26</td>\n",
              "      <td>92</td>\n",
              "      <td>10</td>\n",
              "      <td>6</td>\n",
              "      <td>129</td>\n",
              "      <td>26</td>\n",
              "      <td>...</td>\n",
              "      <td>6</td>\n",
              "      <td>126</td>\n",
              "      <td>23</td>\n",
              "      <td>93</td>\n",
              "      <td>10</td>\n",
              "      <td>6</td>\n",
              "      <td>123</td>\n",
              "      <td>23</td>\n",
              "      <td>90</td>\n",
              "      <td>10</td>\n",
              "    </tr>\n",
              "    <tr>\n",
              "      <th>22</th>\n",
              "      <td>[출처] 응급의료 통계연보\\n[정의] \\n- 2016년 -2019년 응급의료...</td>\n",
              "      <td>NaN</td>\n",
              "      <td>NaN</td>\n",
              "      <td>NaN</td>\n",
              "      <td>NaN</td>\n",
              "      <td>NaN</td>\n",
              "      <td>NaN</td>\n",
              "      <td>NaN</td>\n",
              "      <td>NaN</td>\n",
              "      <td>NaN</td>\n",
              "      <td>...</td>\n",
              "      <td>NaN</td>\n",
              "      <td>NaN</td>\n",
              "      <td>NaN</td>\n",
              "      <td>NaN</td>\n",
              "      <td>NaN</td>\n",
              "      <td>NaN</td>\n",
              "      <td>NaN</td>\n",
              "      <td>NaN</td>\n",
              "      <td>NaN</td>\n",
              "      <td>NaN</td>\n",
              "    </tr>\n",
              "  </tbody>\n",
              "</table>\n",
              "<p>23 rows × 27 columns</p>\n",
              "</div>\n",
              "    <div class=\"colab-df-buttons\">\n",
              "\n",
              "  <div class=\"colab-df-container\">\n",
              "    <button class=\"colab-df-convert\" onclick=\"convertToInteractive('df-c13bb1db-55f7-4e78-b65b-c57f0f60d87c')\"\n",
              "            title=\"Convert this dataframe to an interactive table.\"\n",
              "            style=\"display:none;\">\n",
              "\n",
              "  <svg xmlns=\"http://www.w3.org/2000/svg\" height=\"24px\" viewBox=\"0 -960 960 960\">\n",
              "    <path d=\"M120-120v-720h720v720H120Zm60-500h600v-160H180v160Zm220 220h160v-160H400v160Zm0 220h160v-160H400v160ZM180-400h160v-160H180v160Zm440 0h160v-160H620v160ZM180-180h160v-160H180v160Zm440 0h160v-160H620v160Z\"/>\n",
              "  </svg>\n",
              "    </button>\n",
              "\n",
              "  <style>\n",
              "    .colab-df-container {\n",
              "      display:flex;\n",
              "      gap: 12px;\n",
              "    }\n",
              "\n",
              "    .colab-df-convert {\n",
              "      background-color: #E8F0FE;\n",
              "      border: none;\n",
              "      border-radius: 50%;\n",
              "      cursor: pointer;\n",
              "      display: none;\n",
              "      fill: #1967D2;\n",
              "      height: 32px;\n",
              "      padding: 0 0 0 0;\n",
              "      width: 32px;\n",
              "    }\n",
              "\n",
              "    .colab-df-convert:hover {\n",
              "      background-color: #E2EBFA;\n",
              "      box-shadow: 0px 1px 2px rgba(60, 64, 67, 0.3), 0px 1px 3px 1px rgba(60, 64, 67, 0.15);\n",
              "      fill: #174EA6;\n",
              "    }\n",
              "\n",
              "    .colab-df-buttons div {\n",
              "      margin-bottom: 4px;\n",
              "    }\n",
              "\n",
              "    [theme=dark] .colab-df-convert {\n",
              "      background-color: #3B4455;\n",
              "      fill: #D2E3FC;\n",
              "    }\n",
              "\n",
              "    [theme=dark] .colab-df-convert:hover {\n",
              "      background-color: #434B5C;\n",
              "      box-shadow: 0px 1px 3px 1px rgba(0, 0, 0, 0.15);\n",
              "      filter: drop-shadow(0px 1px 2px rgba(0, 0, 0, 0.3));\n",
              "      fill: #FFFFFF;\n",
              "    }\n",
              "  </style>\n",
              "\n",
              "    <script>\n",
              "      const buttonEl =\n",
              "        document.querySelector('#df-c13bb1db-55f7-4e78-b65b-c57f0f60d87c button.colab-df-convert');\n",
              "      buttonEl.style.display =\n",
              "        google.colab.kernel.accessAllowed ? 'block' : 'none';\n",
              "\n",
              "      async function convertToInteractive(key) {\n",
              "        const element = document.querySelector('#df-c13bb1db-55f7-4e78-b65b-c57f0f60d87c');\n",
              "        const dataTable =\n",
              "          await google.colab.kernel.invokeFunction('convertToInteractive',\n",
              "                                                    [key], {});\n",
              "        if (!dataTable) return;\n",
              "\n",
              "        const docLinkHtml = 'Like what you see? Visit the ' +\n",
              "          '<a target=\"_blank\" href=https://colab.research.google.com/notebooks/data_table.ipynb>data table notebook</a>'\n",
              "          + ' to learn more about interactive tables.';\n",
              "        element.innerHTML = '';\n",
              "        dataTable['output_type'] = 'display_data';\n",
              "        await google.colab.output.renderOutput(dataTable, element);\n",
              "        const docLink = document.createElement('div');\n",
              "        docLink.innerHTML = docLinkHtml;\n",
              "        element.appendChild(docLink);\n",
              "      }\n",
              "    </script>\n",
              "  </div>\n",
              "\n",
              "\n",
              "<div id=\"df-c57df701-6036-4d66-8d85-04583330b094\">\n",
              "  <button class=\"colab-df-quickchart\" onclick=\"quickchart('df-c57df701-6036-4d66-8d85-04583330b094')\"\n",
              "            title=\"Suggest charts\"\n",
              "            style=\"display:none;\">\n",
              "\n",
              "<svg xmlns=\"http://www.w3.org/2000/svg\" height=\"24px\"viewBox=\"0 0 24 24\"\n",
              "     width=\"24px\">\n",
              "    <g>\n",
              "        <path d=\"M19 3H5c-1.1 0-2 .9-2 2v14c0 1.1.9 2 2 2h14c1.1 0 2-.9 2-2V5c0-1.1-.9-2-2-2zM9 17H7v-7h2v7zm4 0h-2V7h2v10zm4 0h-2v-4h2v4z\"/>\n",
              "    </g>\n",
              "</svg>\n",
              "  </button>\n",
              "\n",
              "<style>\n",
              "  .colab-df-quickchart {\n",
              "      --bg-color: #E8F0FE;\n",
              "      --fill-color: #1967D2;\n",
              "      --hover-bg-color: #E2EBFA;\n",
              "      --hover-fill-color: #174EA6;\n",
              "      --disabled-fill-color: #AAA;\n",
              "      --disabled-bg-color: #DDD;\n",
              "  }\n",
              "\n",
              "  [theme=dark] .colab-df-quickchart {\n",
              "      --bg-color: #3B4455;\n",
              "      --fill-color: #D2E3FC;\n",
              "      --hover-bg-color: #434B5C;\n",
              "      --hover-fill-color: #FFFFFF;\n",
              "      --disabled-bg-color: #3B4455;\n",
              "      --disabled-fill-color: #666;\n",
              "  }\n",
              "\n",
              "  .colab-df-quickchart {\n",
              "    background-color: var(--bg-color);\n",
              "    border: none;\n",
              "    border-radius: 50%;\n",
              "    cursor: pointer;\n",
              "    display: none;\n",
              "    fill: var(--fill-color);\n",
              "    height: 32px;\n",
              "    padding: 0;\n",
              "    width: 32px;\n",
              "  }\n",
              "\n",
              "  .colab-df-quickchart:hover {\n",
              "    background-color: var(--hover-bg-color);\n",
              "    box-shadow: 0 1px 2px rgba(60, 64, 67, 0.3), 0 1px 3px 1px rgba(60, 64, 67, 0.15);\n",
              "    fill: var(--button-hover-fill-color);\n",
              "  }\n",
              "\n",
              "  .colab-df-quickchart-complete:disabled,\n",
              "  .colab-df-quickchart-complete:disabled:hover {\n",
              "    background-color: var(--disabled-bg-color);\n",
              "    fill: var(--disabled-fill-color);\n",
              "    box-shadow: none;\n",
              "  }\n",
              "\n",
              "  .colab-df-spinner {\n",
              "    border: 2px solid var(--fill-color);\n",
              "    border-color: transparent;\n",
              "    border-bottom-color: var(--fill-color);\n",
              "    animation:\n",
              "      spin 1s steps(1) infinite;\n",
              "  }\n",
              "\n",
              "  @keyframes spin {\n",
              "    0% {\n",
              "      border-color: transparent;\n",
              "      border-bottom-color: var(--fill-color);\n",
              "      border-left-color: var(--fill-color);\n",
              "    }\n",
              "    20% {\n",
              "      border-color: transparent;\n",
              "      border-left-color: var(--fill-color);\n",
              "      border-top-color: var(--fill-color);\n",
              "    }\n",
              "    30% {\n",
              "      border-color: transparent;\n",
              "      border-left-color: var(--fill-color);\n",
              "      border-top-color: var(--fill-color);\n",
              "      border-right-color: var(--fill-color);\n",
              "    }\n",
              "    40% {\n",
              "      border-color: transparent;\n",
              "      border-right-color: var(--fill-color);\n",
              "      border-top-color: var(--fill-color);\n",
              "    }\n",
              "    60% {\n",
              "      border-color: transparent;\n",
              "      border-right-color: var(--fill-color);\n",
              "    }\n",
              "    80% {\n",
              "      border-color: transparent;\n",
              "      border-right-color: var(--fill-color);\n",
              "      border-bottom-color: var(--fill-color);\n",
              "    }\n",
              "    90% {\n",
              "      border-color: transparent;\n",
              "      border-bottom-color: var(--fill-color);\n",
              "    }\n",
              "  }\n",
              "</style>\n",
              "\n",
              "  <script>\n",
              "    async function quickchart(key) {\n",
              "      const quickchartButtonEl =\n",
              "        document.querySelector('#' + key + ' button');\n",
              "      quickchartButtonEl.disabled = true;  // To prevent multiple clicks.\n",
              "      quickchartButtonEl.classList.add('colab-df-spinner');\n",
              "      try {\n",
              "        const charts = await google.colab.kernel.invokeFunction(\n",
              "            'suggestCharts', [key], {});\n",
              "      } catch (error) {\n",
              "        console.error('Error during call to suggestCharts:', error);\n",
              "      }\n",
              "      quickchartButtonEl.classList.remove('colab-df-spinner');\n",
              "      quickchartButtonEl.classList.add('colab-df-quickchart-complete');\n",
              "    }\n",
              "    (() => {\n",
              "      let quickchartButtonEl =\n",
              "        document.querySelector('#df-c57df701-6036-4d66-8d85-04583330b094 button');\n",
              "      quickchartButtonEl.style.display =\n",
              "        google.colab.kernel.accessAllowed ? 'block' : 'none';\n",
              "    })();\n",
              "  </script>\n",
              "</div>\n",
              "\n",
              "  <div id=\"id_e6656d6d-7f8d-4e0c-9137-ddf6ea736fe5\">\n",
              "    <style>\n",
              "      .colab-df-generate {\n",
              "        background-color: #E8F0FE;\n",
              "        border: none;\n",
              "        border-radius: 50%;\n",
              "        cursor: pointer;\n",
              "        display: none;\n",
              "        fill: #1967D2;\n",
              "        height: 32px;\n",
              "        padding: 0 0 0 0;\n",
              "        width: 32px;\n",
              "      }\n",
              "\n",
              "      .colab-df-generate:hover {\n",
              "        background-color: #E2EBFA;\n",
              "        box-shadow: 0px 1px 2px rgba(60, 64, 67, 0.3), 0px 1px 3px 1px rgba(60, 64, 67, 0.15);\n",
              "        fill: #174EA6;\n",
              "      }\n",
              "\n",
              "      [theme=dark] .colab-df-generate {\n",
              "        background-color: #3B4455;\n",
              "        fill: #D2E3FC;\n",
              "      }\n",
              "\n",
              "      [theme=dark] .colab-df-generate:hover {\n",
              "        background-color: #434B5C;\n",
              "        box-shadow: 0px 1px 3px 1px rgba(0, 0, 0, 0.15);\n",
              "        filter: drop-shadow(0px 1px 2px rgba(0, 0, 0, 0.3));\n",
              "        fill: #FFFFFF;\n",
              "      }\n",
              "    </style>\n",
              "    <button class=\"colab-df-generate\" onclick=\"generateWithVariable('df')\"\n",
              "            title=\"Generate code using this dataframe.\"\n",
              "            style=\"display:none;\">\n",
              "\n",
              "  <svg xmlns=\"http://www.w3.org/2000/svg\" height=\"24px\"viewBox=\"0 0 24 24\"\n",
              "       width=\"24px\">\n",
              "    <path d=\"M7,19H8.4L18.45,9,17,7.55,7,17.6ZM5,21V16.75L18.45,3.32a2,2,0,0,1,2.83,0l1.4,1.43a1.91,1.91,0,0,1,.58,1.4,1.91,1.91,0,0,1-.58,1.4L9.25,21ZM18.45,9,17,7.55Zm-12,3A5.31,5.31,0,0,0,4.9,8.1,5.31,5.31,0,0,0,1,6.5,5.31,5.31,0,0,0,4.9,4.9,5.31,5.31,0,0,0,6.5,1,5.31,5.31,0,0,0,8.1,4.9,5.31,5.31,0,0,0,12,6.5,5.46,5.46,0,0,0,6.5,12Z\"/>\n",
              "  </svg>\n",
              "    </button>\n",
              "    <script>\n",
              "      (() => {\n",
              "      const buttonEl =\n",
              "        document.querySelector('#id_e6656d6d-7f8d-4e0c-9137-ddf6ea736fe5 button.colab-df-generate');\n",
              "      buttonEl.style.display =\n",
              "        google.colab.kernel.accessAllowed ? 'block' : 'none';\n",
              "\n",
              "      buttonEl.onclick = () => {\n",
              "        google.colab.notebook.generateWithVariable('df');\n",
              "      }\n",
              "      })();\n",
              "    </script>\n",
              "  </div>\n",
              "\n",
              "    </div>\n",
              "  </div>\n"
            ]
          },
          "metadata": {},
          "execution_count": 74
        }
      ]
    },
    {
      "cell_type": "code",
      "source": [
        "col = df.columns\n",
        "print(len(col))\n",
        "print(col)"
      ],
      "metadata": {
        "colab": {
          "base_uri": "https://localhost:8080/"
        },
        "id": "IHf4_09z0kVb",
        "outputId": "4ae4ae42-454f-46b3-8f0b-e20e40fd5063"
      },
      "execution_count": null,
      "outputs": [
        {
          "output_type": "stream",
          "name": "stdout",
          "text": [
            "27\n",
            "Index(['No', '분류', '2022년', '2022년.1', '2022년.2', '2022년.3', '2022년.4',\n",
            "       '2021년', '2021년.1', '2021년.2', '2021년.3', '2021년.4', '2020년', '2020년.1',\n",
            "       '2020년.2', '2020년.3', '2020년.4', '2019년', '2019년.1', '2019년.2',\n",
            "       '2019년.3', '2019년.4', '2018년', '2018년.1', '2018년.2', '2018년.3',\n",
            "       '2018년.4'],\n",
            "      dtype='object')\n"
          ]
        }
      ]
    },
    {
      "cell_type": "code",
      "source": [
        "num2 = 0\n",
        "for i in range(2018,2023):\n",
        "  # print(i)\n",
        "  text = f\"{i}년\"\n",
        "  # print(text)\n",
        "  df_1 = df.loc[:,text:text+\".4\"]\n",
        "\n",
        "  print(len(df_1))\n",
        "  num2 = num2 + len(df_1)\n",
        "\n",
        "\n",
        "print(num2)\n"
      ],
      "metadata": {
        "colab": {
          "base_uri": "https://localhost:8080/"
        },
        "id": "yoACuOGz1Bzv",
        "outputId": "933e0245-b44f-4864-e497-fd346d457d6a"
      },
      "execution_count": null,
      "outputs": [
        {
          "output_type": "stream",
          "name": "stdout",
          "text": [
            "23\n",
            "23\n",
            "23\n",
            "23\n",
            "23\n",
            "115\n"
          ]
        }
      ]
    },
    {
      "cell_type": "markdown",
      "source": [
        "# 3번 데이터셋\n",
        "\n",
        "이름 : \t응급의학전문의+및+응급의학전공의+현황+-+시도별,+연도별.csv"
      ],
      "metadata": {
        "id": "6onVogJj1lwy"
      }
    },
    {
      "cell_type": "markdown",
      "source": [
        "## 총: 115개"
      ],
      "metadata": {
        "id": "ZcdvP6O63rbP"
      }
    },
    {
      "cell_type": "code",
      "source": [
        "df = pd.read_excel(data_set[2])\n",
        "print(len(df.columns))\n"
      ],
      "metadata": {
        "colab": {
          "base_uri": "https://localhost:8080/"
        },
        "id": "8TB2H0mh3tR9",
        "outputId": "a5f48fb3-56fb-4b8e-f91c-d2947f962e6a"
      },
      "execution_count": null,
      "outputs": [
        {
          "output_type": "stream",
          "name": "stdout",
          "text": [
            "42\n"
          ]
        }
      ]
    },
    {
      "cell_type": "code",
      "source": [
        "num3 = 0\n",
        "for i in range(2018,2023):\n",
        "  # print(i)\n",
        "  text = f\"{i}년\"\n",
        "  # print(text)\n",
        "  df_1 = df.loc[:,text:text+\".7\"]\n",
        "  print(len(df_1))\n",
        "  num3 = num3 + len(df_1)\n",
        "print(\"총 갯수 : \", num3)"
      ],
      "metadata": {
        "colab": {
          "base_uri": "https://localhost:8080/"
        },
        "id": "EQZfi-jR34tP",
        "outputId": "09967e80-feac-42cc-cf21-71b4de5447a9"
      },
      "execution_count": null,
      "outputs": [
        {
          "output_type": "stream",
          "name": "stdout",
          "text": [
            "23\n",
            "23\n",
            "23\n",
            "23\n",
            "23\n",
            "총 갯수 :  115\n"
          ]
        }
      ]
    },
    {
      "cell_type": "code",
      "source": [],
      "metadata": {
        "id": "459bG2cX4UZt"
      },
      "execution_count": null,
      "outputs": []
    },
    {
      "cell_type": "markdown",
      "source": [
        "# 4번 데이터셋\n",
        "\n",
        "이름 : 1급+응급구조사+및+2급+응급구조사+합격자+현황+-+시도별,+연도별.csv"
      ],
      "metadata": {
        "id": "t0OsrekE4aAF"
      }
    },
    {
      "cell_type": "markdown",
      "source": [
        "## 총 : 115"
      ],
      "metadata": {
        "id": "YL4Ai1Ux4kR_"
      }
    },
    {
      "cell_type": "code",
      "source": [
        "df =pd.read_excel(data_set[3])\n",
        "print(len(df.columns))"
      ],
      "metadata": {
        "colab": {
          "base_uri": "https://localhost:8080/"
        },
        "id": "LEf6JyAy4lcB",
        "outputId": "6de380e2-8ce5-4b64-ee90-76c3048370c5"
      },
      "execution_count": null,
      "outputs": [
        {
          "output_type": "stream",
          "name": "stdout",
          "text": [
            "42\n"
          ]
        }
      ]
    },
    {
      "cell_type": "code",
      "source": [
        "num4 = 0\n",
        "for i in range(2018,2023):\n",
        "  # print(i)\n",
        "  text = f\"{i}년\"\n",
        "  # print(text)\n",
        "  df_1 = df.loc[:,text:text+\".7\"]\n",
        "  print(len(df_1))\n",
        "  num4 = num4 + len(df_1)\n",
        "print(\"총 갯수 : \", num4)"
      ],
      "metadata": {
        "colab": {
          "base_uri": "https://localhost:8080/"
        },
        "id": "U4vZwIAy5DYd",
        "outputId": "6ca45fec-1473-4318-94ce-ee1126c16a82"
      },
      "execution_count": null,
      "outputs": [
        {
          "output_type": "stream",
          "name": "stdout",
          "text": [
            "23\n",
            "23\n",
            "23\n",
            "23\n",
            "23\n",
            "총 갯수 :  115\n"
          ]
        }
      ]
    },
    {
      "cell_type": "markdown",
      "source": [
        "# 5번 데이터셋"
      ],
      "metadata": {
        "id": "2iI0uayR4c-U"
      }
    },
    {
      "cell_type": "markdown",
      "source": [
        "## 총 ; 135"
      ],
      "metadata": {
        "id": "Bz4p-tWw6XIG"
      }
    },
    {
      "cell_type": "code",
      "source": [
        "df =pd.read_excel(data_set[4])\n",
        "print(len(df.columns))"
      ],
      "metadata": {
        "colab": {
          "base_uri": "https://localhost:8080/"
        },
        "id": "SrR-T-IV6dgY",
        "outputId": "30b82db0-aa04-486c-a6b1-0106a7976dc7"
      },
      "execution_count": null,
      "outputs": [
        {
          "output_type": "stream",
          "name": "stdout",
          "text": [
            "28\n"
          ]
        }
      ]
    },
    {
      "cell_type": "code",
      "source": [
        "num5 = 0\n",
        "for i in range(2018,2023):\n",
        "  # print(i)\n",
        "  text = f\"{i}년\"\n",
        "  # print(text)\n",
        "  df_1 = df.loc[:,text:text+\".4\"]\n",
        "  print(len(df_1))\n",
        "  num5 = num5 + len(df_1)\n",
        "print(\"총 갯수 : \", num5)"
      ],
      "metadata": {
        "colab": {
          "base_uri": "https://localhost:8080/"
        },
        "id": "BqOb3o4_6boP",
        "outputId": "70ff05e7-cea8-4610-ec1b-6ba9e3b55799"
      },
      "execution_count": null,
      "outputs": [
        {
          "output_type": "stream",
          "name": "stdout",
          "text": [
            "27\n",
            "27\n",
            "27\n",
            "27\n",
            "27\n",
            "총 갯수 :  135\n"
          ]
        }
      ]
    },
    {
      "cell_type": "markdown",
      "source": [
        "# 6번데이터셋\n"
      ],
      "metadata": {
        "id": "FCbL_cRu4e8p"
      }
    },
    {
      "cell_type": "markdown",
      "source": [
        "## 전체+구급차+및+배치된+의료인력+현황+-+시도별,+연도별.csv\n",
        "\n",
        "115개"
      ],
      "metadata": {
        "id": "diDp3l1u68s7"
      }
    },
    {
      "cell_type": "code",
      "source": [
        "print(data_set[5])"
      ],
      "metadata": {
        "colab": {
          "base_uri": "https://localhost:8080/"
        },
        "id": "iZXDoiAH64vG",
        "outputId": "289e4c37-24ff-4678-8b35-a1724214a67d"
      },
      "execution_count": null,
      "outputs": [
        {
          "output_type": "stream",
          "name": "stdout",
          "text": [
            "전체+구급차+및+배치된+의료인력+현황+-+시도별,+연도별.csv\n"
          ]
        }
      ]
    },
    {
      "cell_type": "code",
      "source": [
        "df =pd.read_excel(data_set[5])\n",
        "print(len(df.columns))\n"
      ],
      "metadata": {
        "colab": {
          "base_uri": "https://localhost:8080/"
        },
        "id": "p8Ogd-6t6qf-",
        "outputId": "5eba06d6-9f00-44af-a95a-337bff1f5dea"
      },
      "execution_count": null,
      "outputs": [
        {
          "output_type": "stream",
          "name": "stdout",
          "text": [
            "42\n"
          ]
        }
      ]
    },
    {
      "cell_type": "code",
      "source": [
        "num6 = 0\n",
        "for i in range(2018,2023):\n",
        "  # print(i)\n",
        "  text = f\"{i}년\"\n",
        "  # print(text)\n",
        "  df_1 = df.loc[:,text:text+\".7\"]\n",
        "  print(len(df_1))\n",
        "  num6 = num6 + len(df_1)\n",
        "print(\"총 갯수 : \", num6)"
      ],
      "metadata": {
        "colab": {
          "base_uri": "https://localhost:8080/"
        },
        "id": "-kZzsEj16vVg",
        "outputId": "03b95151-5680-48e5-ab2b-8f591afc4fe8"
      },
      "execution_count": null,
      "outputs": [
        {
          "output_type": "stream",
          "name": "stdout",
          "text": [
            "23\n",
            "23\n",
            "23\n",
            "23\n",
            "23\n",
            "총 갯수 :  115\n"
          ]
        }
      ]
    },
    {
      "cell_type": "markdown",
      "source": [
        "# 7번데이터셋\n",
        "## 인구+백만+명당+응급의료기관+현황+-+시도별,+연도별.csv\n",
        "\n",
        "총 : 105"
      ],
      "metadata": {
        "id": "I7t-XI5S61PF"
      }
    },
    {
      "cell_type": "code",
      "source": [
        "print(data_set[6])"
      ],
      "metadata": {
        "colab": {
          "base_uri": "https://localhost:8080/"
        },
        "id": "2ucMOMEI7CIf",
        "outputId": "773268b2-bd01-4a25-856a-f3b0368adcd6"
      },
      "execution_count": null,
      "outputs": [
        {
          "output_type": "stream",
          "name": "stdout",
          "text": [
            "인구+백만+명당+응급의료기관+현황+-+시도별,+연도별.csv\n"
          ]
        }
      ]
    },
    {
      "cell_type": "code",
      "source": [
        "df =pd.read_excel(data_set[6])\n",
        "print(len(df.columns))\n"
      ],
      "metadata": {
        "colab": {
          "base_uri": "https://localhost:8080/"
        },
        "id": "oAmUfas57MEZ",
        "outputId": "287f03ac-4b0f-4ee3-a96f-d0bed9f30840"
      },
      "execution_count": null,
      "outputs": [
        {
          "output_type": "stream",
          "name": "stdout",
          "text": [
            "32\n"
          ]
        }
      ]
    },
    {
      "cell_type": "code",
      "source": [
        "num7 = 0\n",
        "for i in range(2018,2023):\n",
        "  # print(i)\n",
        "  text = f\"{i}년\"\n",
        "  # print(text)\n",
        "  df_1 = df.loc[:,text:text+\".5\"]\n",
        "  print(len(df_1))\n",
        "  num7 = num7 + len(df_1)\n",
        "print(\"총 갯수 : \", num7)"
      ],
      "metadata": {
        "colab": {
          "base_uri": "https://localhost:8080/"
        },
        "id": "_m3a9ktk7OFF",
        "outputId": "19e7cf33-189e-48b5-f9ab-2ffb2081821a"
      },
      "execution_count": null,
      "outputs": [
        {
          "output_type": "stream",
          "name": "stdout",
          "text": [
            "21\n",
            "21\n",
            "21\n",
            "21\n",
            "21\n",
            "총 갯수 :  105\n"
          ]
        }
      ]
    },
    {
      "cell_type": "markdown",
      "source": [
        "# 8번 데이터셋\n",
        "## 행정구역_시군구_별__성별_인구수_20231208132957.xlsx\n",
        "총 :"
      ],
      "metadata": {
        "id": "KKl_TgA67YKa"
      }
    },
    {
      "cell_type": "code",
      "source": [
        "print(data_set[7])\n"
      ],
      "metadata": {
        "colab": {
          "base_uri": "https://localhost:8080/"
        },
        "id": "DutBnIuC7bhI",
        "outputId": "e9484d3f-7f3f-4a62-a6f8-1842e5bd5f0c"
      },
      "execution_count": null,
      "outputs": [
        {
          "output_type": "stream",
          "name": "stdout",
          "text": [
            "행정구역_시군구_별__성별_인구수_20231208132957.xlsx\n"
          ]
        }
      ]
    },
    {
      "cell_type": "code",
      "source": [
        "df =pd.read_excel(data_set[7])\n",
        "print(df.columns)\n"
      ],
      "metadata": {
        "colab": {
          "base_uri": "https://localhost:8080/"
        },
        "id": "0aaH-YHR7ldV",
        "outputId": "d21ab4de-42bc-4f54-dc20-fca49e94c2e1"
      },
      "execution_count": null,
      "outputs": [
        {
          "output_type": "stream",
          "name": "stdout",
          "text": [
            "Index(['행정구역(시군구)별', '2020.01', '2020.01.1', '2020.01.2', '2020.02',\n",
            "       '2020.02.1', '2020.02.2', '2020.03', '2020.03.1', '2020.03.2',\n",
            "       '2020.04', '2020.04.1', '2020.04.2', '2020.05', '2020.05.1',\n",
            "       '2020.05.2', '2020.06', '2020.06.1', '2020.06.2', '2020.07',\n",
            "       '2020.07.1', '2020.07.2', '2020.08', '2020.08.1', '2020.08.2',\n",
            "       '2020.09', '2020.09.1', '2020.09.2', '2020.10', '2020.10.1',\n",
            "       '2020.10.2', '2020.11', '2020.11.1', '2020.11.2', '2020.12',\n",
            "       '2020.12.1', '2020.12.2', '2022.01', '2022.01.1', '2022.01.2'],\n",
            "      dtype='object')\n"
          ]
        }
      ]
    },
    {
      "cell_type": "code",
      "source": [
        "print(num2 + num3+num4+num5+num6+num7)"
      ],
      "metadata": {
        "colab": {
          "base_uri": "https://localhost:8080/"
        },
        "id": "hciUjGn88MNt",
        "outputId": "39cdc494-e5ac-461b-9656-cf66389be05a"
      },
      "execution_count": null,
      "outputs": [
        {
          "output_type": "stream",
          "name": "stdout",
          "text": [
            "700\n"
          ]
        }
      ]
    },
    {
      "cell_type": "code",
      "source": [
        "print(2185 + 2850 +1815)"
      ],
      "metadata": {
        "colab": {
          "base_uri": "https://localhost:8080/"
        },
        "id": "B61hzlDK8eYT",
        "outputId": "de2a9f90-91da-4b0d-e94e-e5457b288f96"
      },
      "execution_count": null,
      "outputs": [
        {
          "output_type": "stream",
          "name": "stdout",
          "text": [
            "6850\n"
          ]
        }
      ]
    }
  ]
}