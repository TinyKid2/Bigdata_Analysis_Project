{
 "cells": [
  {
   "cell_type": "code",
   "execution_count": 2,
   "id": "a459c7eb",
   "metadata": {},
   "outputs": [],
   "source": [
    "import pandas as pd\n",
    "import numpy as np\n",
    "import scipy\n",
    "import os"
   ]
  },
  {
   "cell_type": "code",
   "execution_count": 19,
   "id": "f86174c0",
   "metadata": {},
   "outputs": [
    {
     "name": "stdout",
     "output_type": "stream",
     "text": [
      "['control_5.csv', 'control_22.csv', 'control_23.csv', 'control_4.csv', 'control_6.csv', 'control_21.csv', 'control_20.csv', 'control_7.csv', 'control_3.csv', 'control_18.csv', 'control_24.csv', 'control_30.csv', 'control_31.csv', 'control_25.csv', 'control_19.csv', 'control_2.csv', 'control_27.csv', 'control_26.csv', 'control_32.csv', 'control_1.csv', 'control_17.csv', 'control_16.csv', 'control_14.csv', 'control_28.csv', 'control_29.csv', 'control_15.csv', 'control_11.csv', 'control_10.csv', 'control_9.csv', 'control_12.csv', 'control_13.csv', 'control_8.csv']\n"
     ]
    }
   ],
   "source": [
    "path = \"/Users/stone/Desktop/4_2/BigData/Depress/control\"\n",
    "file_list = os.listdir(path)\n",
    "print(file_list)\n",
    "file_list_py = [file for file in file_list if file.endswith('.csv')] ## 파일명 끝이 .csv인 경우\n",
    "\n",
    "#print(file_list_py)"
   ]
  },
  {
   "cell_type": "code",
   "execution_count": 20,
   "id": "dbcec5b2",
   "metadata": {
    "scrolled": true
   },
   "outputs": [],
   "source": [
    "df_control = pd.DataFrame()\n",
    "for i in file_list_py:\n",
    "    data = pd.read_csv(path + \"/\" +i)\n",
    "    df_control = pd.concat([df_control,data])"
   ]
  },
  {
   "cell_type": "code",
   "execution_count": 26,
   "id": "2e46eea0",
   "metadata": {},
   "outputs": [],
   "source": [
    "df_control = df_control.reset_index(drop = True)"
   ]
  },
  {
   "cell_type": "code",
   "execution_count": 27,
   "id": "e94a5842",
   "metadata": {
    "scrolled": true
   },
   "outputs": [
    {
     "data": {
      "text/plain": [
       "1019990"
      ]
     },
     "execution_count": 27,
     "metadata": {},
     "output_type": "execute_result"
    }
   ],
   "source": [
    "len(df_control)\n",
    "\n"
   ]
  },
  {
   "cell_type": "code",
   "execution_count": 28,
   "id": "65bd2a5a",
   "metadata": {},
   "outputs": [],
   "source": [
    "df_control.to_csv(\"/Users/stone/Desktop/4_2/BigData/Depress/df_control\")"
   ]
  },
  {
   "cell_type": "code",
   "execution_count": 29,
   "id": "ef74ac6a",
   "metadata": {},
   "outputs": [
    {
     "name": "stdout",
     "output_type": "stream",
     "text": [
      "['condition_23.csv', 'condition_22.csv', 'condition_20.csv', 'condition_21.csv', 'condition_19.csv', 'condition_18.csv', 'condition_7.csv', 'condition_6.csv', 'condition_4.csv', 'condition_5.csv', 'condition_1.csv', 'condition_2.csv', 'condition_3.csv', 'condition_8.csv', 'condition_9.csv', 'condition_16.csv', 'condition_17.csv', 'condition_15.csv', 'condition_14.csv', 'condition_10.csv', 'condition_11.csv', 'condition_13.csv', 'condition_12.csv']\n"
     ]
    }
   ],
   "source": [
    "path = \"/Users/stone/Desktop/4_2/BigData/Depress/condition\"\n",
    "file_list = os.listdir(path)\n",
    "print(file_list)\n",
    "file_list_py = [file for file in file_list if file.endswith('.csv')] ## 파일명 끝이 .csv인 경우\n"
   ]
  },
  {
   "cell_type": "code",
   "execution_count": 30,
   "id": "e422c3c2",
   "metadata": {},
   "outputs": [],
   "source": [
    "df_condition = pd.DataFrame()\n",
    "for i in file_list_py:\n",
    "    data = pd.read_csv(path + \"/\" +i)\n",
    "    df_condition = pd.concat([df_condition,data])\n",
    "    \n",
    "    \n",
    "df_condition = df_condition.reset_index(drop = True)\n"
   ]
  },
  {
   "cell_type": "code",
   "execution_count": 32,
   "id": "c6fc22d7",
   "metadata": {},
   "outputs": [
    {
     "data": {
      "text/plain": [
       "551716"
      ]
     },
     "execution_count": 32,
     "metadata": {},
     "output_type": "execute_result"
    }
   ],
   "source": [
    "len(df_condition)\n"
   ]
  },
  {
   "cell_type": "code",
   "execution_count": null,
   "id": "1a48ece7",
   "metadata": {},
   "outputs": [],
   "source": []
  }
 ],
 "metadata": {
  "kernelspec": {
   "display_name": "Python 3 (ipykernel)",
   "language": "python",
   "name": "python3"
  },
  "language_info": {
   "codemirror_mode": {
    "name": "ipython",
    "version": 3
   },
   "file_extension": ".py",
   "mimetype": "text/x-python",
   "name": "python",
   "nbconvert_exporter": "python",
   "pygments_lexer": "ipython3",
   "version": "3.10.2"
  }
 },
 "nbformat": 4,
 "nbformat_minor": 5
}
